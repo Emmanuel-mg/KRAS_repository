{
 "cells": [
  {
   "cell_type": "markdown",
   "metadata": {},
   "source": [
    "# Commands used for the analysis of the KRAS protein"
   ]
  },
  {
   "cell_type": "markdown",
   "metadata": {},
   "source": [
    "## AlphaMissense"
   ]
  },
  {
   "cell_type": "code",
   "execution_count": null,
   "metadata": {
    "vscode": {
     "languageId": "shellscript"
    }
   },
   "outputs": [],
   "source": [
    "/home/ctools/alphamissense/alphamissense 6P0Z"
   ]
  },
  {
   "cell_type": "markdown",
   "metadata": {},
   "source": [
    "## NACCESS"
   ]
  },
  {
   "cell_type": "code",
   "execution_count": null,
   "metadata": {
    "vscode": {
     "languageId": "shellscript"
    }
   },
   "outputs": [],
   "source": [
    "# Running naccess on the protein\n",
    "/home/ctools/naccess-2.1.1/naccess 6P0Z_chainA_withMg_noHOH_noGDP_noACE_model0_checked.pdb"
   ]
  },
  {
   "cell_type": "markdown",
   "metadata": {},
   "source": [
    "## MutateX (folding free energy)"
   ]
  },
  {
   "cell_type": "code",
   "execution_count": null,
   "metadata": {
    "vscode": {
     "languageId": "shellscript"
    }
   },
   "outputs": [],
   "source": [
    "# Computing the effect of given mutations on the KRAS protein\n",
    "nohup mutatex 6P0Z_chainA_withMg_noHOH_noGDP_noACE.pdb -p 4 -m mutation_list.txt -x /home/ctools/foldx5_2024/foldx \n",
    "\\\\ -f suite5 -R repair_runfile_template.txt -M mutate_runfile_template.txt -q poslist.txt -L -l -v -C none &\n",
    "\n",
    "# summarizing the results in an excel file\n",
    "/home/ctools/anaconda3_2021.11/bin/ddg2excel -p 6P0Z_chainA_withMg_noHOH_noGDP_noACE.pdb -l mutation_list.txt -q poslist.txt -d results/mutation_ddgs/final_averages/ -F csv"
   ]
  },
  {
   "cell_type": "markdown",
   "metadata": {},
   "source": [
    "## CABSflex"
   ]
  },
  {
   "cell_type": "code",
   "execution_count": null,
   "metadata": {
    "vscode": {
     "languageId": "shellscript"
    }
   },
   "outputs": [],
   "source": [
    "# One of the CABSflex script we ran (with constraints around the Mg ion)\n",
    "nohup CABSflex -i 6P0Z_chainA_withMg_noHOH_noGDP_noACE.pdb -k 10 -y 30 -a 10 -v 3 -z 10 -A --sc-rest-add 16:A 17:A 2.8 1.0 --sc-rest-add 16:A 32:A 9.3 1.0 \n",
    "\\\\ --sc-rest-add 16:A 34:A 9.3 1.0 --sc-rest-add 17:A 32:A 3.3 1.0 --sc-rest-add 17:A 34:A 7.9 1.0 --sc-rest-add 32:A 34:A 3.4 1.0 >& log1 &"
   ]
  },
  {
   "cell_type": "markdown",
   "metadata": {},
   "source": [
    "## AlphaFold"
   ]
  },
  {
   "cell_type": "markdown",
   "metadata": {},
   "source": [
    "Retrieving model from the AlphaFold webserver"
   ]
  },
  {
   "cell_type": "markdown",
   "metadata": {},
   "source": [
    "### Ramachandran plot"
   ]
  },
  {
   "cell_type": "markdown",
   "metadata": {},
   "source": [
    "Using the VADAR website to compute the Ramachandran plot"
   ]
  },
  {
   "cell_type": "markdown",
   "metadata": {},
   "source": [
    "## Docking"
   ]
  },
  {
   "cell_type": "markdown",
   "metadata": {},
   "source": [
    "Using the FastDRH webserver to simulate the docking"
   ]
  }
 ],
 "metadata": {
  "kernelspec": {
   "display_name": "Python 3",
   "language": "python",
   "name": "python3"
  },
  "language_info": {
   "codemirror_mode": {
    "name": "ipython",
    "version": 3
   },
   "file_extension": ".py",
   "mimetype": "text/x-python",
   "name": "python",
   "nbconvert_exporter": "python",
   "pygments_lexer": "ipython3",
   "version": "3.9.13"
  }
 },
 "nbformat": 4,
 "nbformat_minor": 2
}
